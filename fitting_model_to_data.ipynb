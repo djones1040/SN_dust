{
 "cells": [
  {
   "cell_type": "markdown",
   "id": "fcfbf140",
   "metadata": {},
   "source": [
    "## Fitting a Model to Data\n",
    "\n",
    "This is a quick tutorial to explain how to fit a simple, arbitrary model to data in python via chi-square minimization.  The basic idea is that if we have some model that's a function of parameters p, we want to determine the best-fit parameters p by comparing to the data, D.  We can do that by minimizing the residuals, i.e. for the ith data point:\n",
    "\n",
    "$f_i = (D_i - p)/ \\sigma_i $\n",
    "\n",
    "For the time being we don't have any uncertainties so we'll ignore the $\\sigma_i$ term.\n",
    "\n",
    "With those residuals, we're then going to use Scipy to minimize the sum of squares $\\Sigma_i f_i^2$, but scipy includes an extra \"loss function\" to minimize the impact of large outliers (this doesn't actually matter for us, we have two data points so there are no outliers!)."
   ]
  },
  {
   "cell_type": "code",
   "execution_count": 1,
   "id": "af3f2bbf",
   "metadata": {},
   "outputs": [],
   "source": [
    "# prelims\n",
    "import numpy as np\n",
    "import matplotlib.pyplot as plt\n",
    "%matplotlib inline\n",
    "from scipy.optimize import least_squares"
   ]
  },
  {
   "cell_type": "markdown",
   "id": "7faff71b",
   "metadata": {},
   "source": [
    "Now let's set up a simple model and fit it to data:"
   ]
  },
  {
   "cell_type": "code",
   "execution_count": 2,
   "id": "198a9b06",
   "metadata": {},
   "outputs": [
    {
     "data": {
      "text/plain": [
       "<ErrorbarContainer object of 3 artists>"
      ]
     },
     "execution_count": 2,
     "metadata": {},
     "output_type": "execute_result"
    },
    {
     "data": {
      "image/png": "[encoded data removed]",
      "text/plain": [
       "<Figure size 432x288 with 1 Axes>"
      ]
     },
     "metadata": {
      "needs_background": "light"
     },
     "output_type": "display_data"
    }
   ],
   "source": [
    "# just a line, with some noise\n",
    "x = np.linspace(0,5,20)\n",
    "y = 0.5*x + 0.25\n",
    "y += np.random.normal(size=20)*0.5\n",
    "plt.errorbar(x,y,yerr=0.5)"
   ]
  },
  {
   "cell_type": "markdown",
   "id": "3cdaee99",
   "metadata": {},
   "source": [
    "To use the least_squares function in the most flexible way, we now need to define our own function that builds the residuals f(i) above"
   ]
  },
  {
   "cell_type": "code",
   "execution_count": 3,
   "id": "521fad12",
   "metadata": {},
   "outputs": [],
   "source": [
    "def line_fit(p):\n",
    "    model = p[0]*x + p[1]\n",
    "    return y - model\n",
    "\n",
    "result = least_squares(line_fit,[1,1])"
   ]
  },
  {
   "cell_type": "code",
   "execution_count": 4,
   "id": "d0ce5700",
   "metadata": {},
   "outputs": [
    {
     "name": "stdout",
     "output_type": "stream",
     "text": [
      "`xtol` termination condition is satisfied.\n"
     ]
    },
    {
     "data": {
      "text/plain": [
       "array([0.47859269, 0.26814765])"
      ]
     },
     "execution_count": 4,
     "metadata": {},
     "output_type": "execute_result"
    }
   ],
   "source": [
    "# let's see how we did\n",
    "print(result.message)\n",
    "result.x"
   ]
  },
  {
   "cell_type": "markdown",
   "id": "188a07fa",
   "metadata": {},
   "source": [
    "So we got a slope of 0.56 and a y-intercept of 0.1 compared to our \"true\" values, 0.5 and 0.25 - not bad!  We should be able to go above and reduce the errors to do better.  End of demo!"
   ]
  },
  {
   "cell_type": "code",
   "execution_count": null,
   "id": "552014e0",
   "metadata": {},
   "outputs": [],
   "source": []
  }
 ],
 "metadata": {
  "kernelspec": {
   "display_name": "Python 3 (ipykernel)",
   "language": "python",
   "name": "python3"
  },
  "language_info": {
   "codemirror_mode": {
    "name": "ipython",
    "version": 3
   },
   "file_extension": ".py",
   "mimetype": "text/x-python",
   "name": "python",
   "nbconvert_exporter": "python",
   "pygments_lexer": "ipython3",
   "version": "3.9.7"
  }
 },
 "nbformat": 4,
 "nbformat_minor": 5
}
