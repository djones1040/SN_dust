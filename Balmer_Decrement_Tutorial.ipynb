{
 "cells": [
  {
   "cell_type": "markdown",
   "id": "709c109e",
   "metadata": {},
   "source": [
    "# Measuring a Balmer Decrement from a Spectrum"
   ]
  },
  {
   "cell_type": "markdown",
   "id": "d4d4bfe1",
   "metadata": {},
   "source": [
    "This tutorial will go over basic python commands, plotting and working with spectra, measuring equivalent widths of emission lines, and finally, using balmer line measurements to infer extinction by dust along the line of sight.  I'm going to roughly follow https://arxiv.org/abs/1109.2597."
   ]
  },
  {
   "cell_type": "code",
   "execution_count": null,
   "id": "e1fdd4c8",
   "metadata": {},
   "outputs": [],
   "source": [
    "# some basic imports\n",
    "%matplotlib inline\n",
    "import numpy as np\n",
    "import matplotlib.pyplot as plt"
   ]
  },
  {
   "cell_type": "markdown",
   "id": "60535ec1",
   "metadata": {},
   "source": [
    "First, let's look at a spectrum.  This will load in an example spectrum of a host galaxy from the Foundation supernova survey (https://ui.adsabs.harvard.edu/abs/2018MNRAS.475..193F/abstract) using a file in the package `SN_site_spectra/` subdirectory."
   ]
  },
  {
   "cell_type": "code",
   "execution_count": null,
   "id": "5ff9253e",
   "metadata": {},
   "outputs": [],
   "source": [
    "wave,flux,fluxerr = np.loadtxt('SN_site_spectra/ATLAS17dzg-combined-20180116_ap6_2.0_kpc_SN.txt',unpack=True)\n",
    "plt.plot(wave,flux)\n",
    "plt.xlabel('Wavelength ($\\AA)')\n",
    "plt.ylabel('Flux')"
   ]
  },
  {
   "cell_type": "markdown",
   "id": "ecbecce7",
   "metadata": {},
   "source": [
    "The figure above is a spectrum taken at the location of SN ATLAS17dzg.  Here's what the SN location and host galaxy look like in an image from the Sloan Digital Sky Survey (SDSS):"
   ]
  },
  {
   "cell_type": "code",
   "execution_count": null,
   "id": "68214573",
   "metadata": {},
   "outputs": [],
   "source": [
    "from IPython.display import Image\n",
    "Image(\"_static/ATLAS17dzg_host.png\")"
   ]
  },
  {
   "cell_type": "markdown",
   "id": "149e93c1",
   "metadata": {},
   "source": [
    "## Properties of the Host Galaxy Spectrum"
   ]
  },
  {
   "cell_type": "markdown",
   "id": "1ea981f2",
   "metadata": {},
   "source": [
    "The host galaxy spectrum above is for a star-forming galaxy.  You can tell because a star-forming galaxy should have lots of gas that gets irradiated by flux from hot O/B stars, producing emission lines.  Let's label a few of these emission lines so you can see what we're looking at:"
   ]
  },
  {
   "cell_type": "code",
   "execution_count": null,
   "id": "ed72cb39",
   "metadata": {},
   "outputs": [],
   "source": [
    "## a few lines - Oxygen, Hydrogen\n",
    "emissionlines = [                 \n",
    "[3726.15991210938, '[OII]'],\n",
    "[3728.90991210938, '[OII]'],\n",
    "[4101.0, 'HDELTA'],\n",
    "[4340.4677734375, 'HGAMMA'],\n",
    "[4861.31982421875, 'HBETA'],\n",
    "[4958.91015625, '[OIII]4959'],\n",
    "[5006.83984375, '[OIII]5007'],\n",
    "[6562.81689453125, 'HALPHA'],]"
   ]
  },
  {
   "cell_type": "code",
   "execution_count": null,
   "id": "dc84652e",
   "metadata": {},
   "outputs": [],
   "source": [
    "# let's make the figure a little bigger\n",
    "plt.rcParams['figure.figsize'] = (16,6)\n",
    "\n",
    "# re-plot the spectrum\n",
    "plt.plot(wave,flux,color='k')\n",
    "plt.xlabel('Wavelength ($\\AA)')\n",
    "plt.ylabel('Flux')\n",
    "plt.xlim([3000,7000])\n",
    "\n",
    "# add in the oxygen and hydrogen lines that we might expect\n",
    "# but, this galaxy is redshifted by the expansion of space, so we have to add in a doppler shift to put the lines\n",
    "# in the observer frame\n",
    "z = 0.05217\n",
    "# I got the above redshift from SDSS, but you can easily measure it by comparing \n",
    "# the observed location of H-alpha (the reddest line here) to the expected location, 6562.8 Angstroms\n",
    "for e in emissionlines:\n",
    "    plt.axvline(e[0]*(1+z),ls='--')\n",
    "    plt.text(e[0]*(1+z),0.1,e[1],rotation=90)"
   ]
  },
  {
   "cell_type": "markdown",
   "id": "9c2f963f",
   "metadata": {},
   "source": [
    "## Measuring the Balmer Decrement"
   ]
  },
  {
   "cell_type": "markdown",
   "id": "3186b34a",
   "metadata": {},
   "source": [
    "To measure the dust at this location in the host galaxy, we have to measure what are called the \"equivalent widths\" of the H-alpha versus the H-beta lines.  If H-gamma is measureable (it is for this spectrum), it's probably a good idea to measure that too.\n",
    "\n",
    "The \"equivalent width\" is the amount of flux contained in an emission line in units of the nearby \"continuum\" flux (aka, the flux when no emission lines are present).  Here's wikipedia for the official definition: https://en.wikipedia.org/wiki/Equivalent_width.\n",
    "\n",
    "So to measure this we basically need an estimate of the continuum and a measurement of the integrated line flux."
   ]
  },
  {
   "cell_type": "markdown",
   "id": "e0c9bfb3",
   "metadata": {},
   "source": [
    "### The H-beta Line\n",
    "\n",
    "Looking at H-beta, there is a little bit of absorption in the vicinity probably caused by the spectra of old stars.  Otherwise, the line looks to be in a relatively smooth part of the spectrum.  Let's try and get a line flux."
   ]
  },
  {
   "cell_type": "code",
   "execution_count": null,
   "id": "4f5b037a",
   "metadata": {},
   "outputs": [],
   "source": [
    "# let's work in rest frame now:\n",
    "restwave = wave/(1+z)\n",
    "iwave = (restwave > 4800) & (restwave < 4900)\n",
    "plt.plot(restwave[iwave],flux[iwave])"
   ]
  },
  {
   "cell_type": "code",
   "execution_count": null,
   "id": "ef58b8fe",
   "metadata": {},
   "outputs": [],
   "source": [
    "# estimate and subtract the nearby continuum with a \"cubic spline\"\n",
    "from scipy.interpolate import CubicSpline\n",
    "\n",
    "# ignoring the region with the line flux\n",
    "iwave_noline = ((restwave > 4800) & (restwave < 4858)) | ((restwave > 4865) & (restwave < 4900))\n",
    "\n",
    "cs = CubicSpline(restwave[iwave_noline], flux[iwave_noline])\n",
    "plt.plot(restwave[iwave],flux[iwave])\n",
    "plt.plot(restwave[iwave],cs(restwave[iwave]))"
   ]
  },
  {
   "cell_type": "code",
   "execution_count": null,
   "id": "0abc6f5a",
   "metadata": {},
   "outputs": [],
   "source": [
    "# subtract off the continuum and measure the line flux\n",
    "iwave_lineonly = (restwave > 4850) & (restwave < 4870)\n",
    "linesub = flux[iwave_lineonly] - cs(restwave[iwave_lineonly])\n",
    "\n",
    "# finally, follow Wikipedia to get the equivalen width\n",
    "ew = np.trapz(linesub/cs(restwave[iwave_lineonly]),x=restwave[iwave_lineonly])\n",
    "print(f'Equivalent H-beta width: {ew:.3f}')"
   ]
  },
  {
   "cell_type": "code",
   "execution_count": null,
   "id": "204134ad",
   "metadata": {},
   "outputs": [],
   "source": []
  }
 ],
 "metadata": {
  "kernelspec": {
   "display_name": "Python 3 (ipykernel)",
   "language": "python",
   "name": "python3"
  },
  "language_info": {
   "codemirror_mode": {
    "name": "ipython",
    "version": 3
   },
   "file_extension": ".py",
   "mimetype": "text/x-python",
   "name": "python",
   "nbconvert_exporter": "python",
   "pygments_lexer": "ipython3",
   "version": "3.9.7"
  }
 },
 "nbformat": 4,
 "nbformat_minor": 5
}
